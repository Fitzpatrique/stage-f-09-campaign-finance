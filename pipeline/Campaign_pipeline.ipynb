{
  "nbformat": 4,
  "nbformat_minor": 0,
  "metadata": {
    "colab": {
      "name": "Campaign_pipeline.ipynb",
      "provenance": []
    },
    "kernelspec": {
      "name": "python3",
      "display_name": "Python 3"
    }
  },
  "cells": [
    {
      "cell_type": "markdown",
      "metadata": {
        "id": "Zk43EoB72DyO"
      },
      "source": [
        "#Install Kubeflow Pipelines SDK"
      ]
    },
    {
      "cell_type": "code",
      "metadata": {
        "id": "xKFGGtNk-sI9",
        "outputId": "ff0f56c8-3bc5-4a9c-c44f-1be5720f2514",
        "colab": {
          "base_uri": "https://localhost:8080/"
        }
      },
      "source": [
        "# Install the SDK\n",
        "!pip3 install 'kfp>=0.1.31.2' --quiet"
      ],
      "execution_count": 1,
      "outputs": [
        {
          "output_type": "stream",
          "text": [
            "\u001b[K     |████████████████████████████████| 122kB 4.1MB/s \n",
            "\u001b[K     |████████████████████████████████| 1.5MB 5.6MB/s \n",
            "\u001b[K     |████████████████████████████████| 61kB 5.7MB/s \n",
            "\u001b[K     |████████████████████████████████| 61kB 7.2MB/s \n",
            "\u001b[K     |████████████████████████████████| 61kB 6.5MB/s \n",
            "\u001b[K     |████████████████████████████████| 204kB 14.6MB/s \n",
            "\u001b[?25h  Building wheel for kfp (setup.py) ... \u001b[?25l\u001b[?25hdone\n",
            "  Building wheel for kfp-server-api (setup.py) ... \u001b[?25l\u001b[?25hdone\n",
            "  Building wheel for strip-hints (setup.py) ... \u001b[?25l\u001b[?25hdone\n",
            "\u001b[31mERROR: nbclient 0.5.1 has requirement jupyter-client>=6.1.5, but you'll have jupyter-client 5.3.5 which is incompatible.\u001b[0m\n"
          ],
          "name": "stdout"
        }
      ]
    },
    {
      "cell_type": "code",
      "metadata": {
        "id": "vnx9I5Lr1vyn",
        "outputId": "146e5616-b557-4125-fa8e-b0e31b0f3b61",
        "colab": {
          "base_uri": "https://localhost:8080/"
        }
      },
      "source": [
        "!which dsl-compile #Check if the install was successful"
      ],
      "execution_count": 2,
      "outputs": [
        {
          "output_type": "stream",
          "text": [
            "/usr/local/bin/dsl-compile\n"
          ],
          "name": "stdout"
        }
      ]
    },
    {
      "cell_type": "markdown",
      "metadata": {
        "id": "173cnxFm3Qy2"
      },
      "source": [
        "#Build the Components"
      ]
    },
    {
      "cell_type": "code",
      "metadata": {
        "id": "pKsGLL_N1lv_"
      },
      "source": [
        "import kfp\n",
        "import kfp.components as comp"
      ],
      "execution_count": 3,
      "outputs": []
    },
    {
      "cell_type": "code",
      "metadata": {
        "id": "CaDwAEtT28wX",
        "outputId": "c0eadc4d-0aaf-4a2b-f3be-1e4ba956f09c",
        "colab": {
          "base_uri": "https://localhost:8080/"
        }
      },
      "source": [
        "# Mount your Google drive folder on Colab\n",
        "from google.colab import drive\n",
        "drive.mount('/content/gdrive', force_remount=True)"
      ],
      "execution_count": 4,
      "outputs": [
        {
          "output_type": "stream",
          "text": [
            "Mounted at /content/gdrive\n"
          ],
          "name": "stdout"
        }
      ]
    },
    {
      "cell_type": "code",
      "metadata": {
        "id": "yPV42rC13grv"
      },
      "source": [
        "# where the outputs are stored\n",
        "out_dir = \"/content/gdrive/My Drive/\""
      ],
      "execution_count": 5,
      "outputs": []
    },
    {
      "cell_type": "code",
      "metadata": {
        "id": "_NZegrhW4F1x"
      },
      "source": [
        "def train(data_path, model_file):\n",
        "  import pickle\n",
        "  import numpy as np\n",
        "  import pandas as pd\n",
        "  from sklearn.model_selection import train_test_split\n",
        "  import tensorflow as tf\n",
        "\n",
        "  data = \"https://raw.githubusercontent.com/Fitzpatrique/stage-f-09-campaign-finance/master/data/new_project_data2.csv\"\n",
        "  df = pd.read_csv(data)\n",
        "\n",
        "  X = df[['can_off_dis', 'can_zip', 'ind_con', 'net_ope_exp', 'tot_con',\n",
        "       'tot_dis', 'net_con', 'ope_exp', 'tot_rec', 'can_off_id', 'can_nam_id',\n",
        "       'can_off_sta_id', 'can_par_aff_id', 'can_inc_cha_ope_sea_id',\n",
        "       'can_cit_id', 'can_sta_id', 'cov_dur']]\n",
        "  y = df[['winner_id']]\n",
        "\n",
        "  #Perform train test split on the data\n",
        "  X_train, X_test, y_train, y_test = train_test_split(X, y, test_size=0.2, random_state=101)\n",
        "\n",
        "  #Define the model \n",
        "  model  = tf.keras.Sequential([\n",
        "                tf.keras.layers.Flatten(input_shape=(1,17)),\n",
        "                tf.keras.layers.Dense(8, activation = 'relu'),\n",
        "                tf.keras.layers.Dense(1, activation = 'sigmoid')\n",
        "  ])\n",
        "\n",
        "  model.compile(optimizer = 'adam', loss='binary_crossentropy', metrics =['accuracy'])\n",
        "\n",
        "\n",
        "  num_epochs = 170\n",
        "\n",
        "  history = model.fit(X_train, y_train, epochs = num_epochs,\n",
        "                    validation_data = (X_test,y_test))\n",
        "  \n",
        "  #Save the model to the designated \n",
        "  model.save(f'{data_path}/{model_file}')\n",
        "\n",
        "  #Save the test_data as a pickle file to be used by the predict component.\n",
        "  with open(f'{data_path}/test_data', 'wb') as f:\n",
        "      pickle.dump((X_test,  y_test), f)\n",
        "  "
      ],
      "execution_count": 6,
      "outputs": []
    },
    {
      "cell_type": "code",
      "metadata": {
        "id": "FTqBO3HJ7nkJ",
        "outputId": "388d5415-0c38-47c0-bb80-a039b9efdc2b",
        "colab": {
          "base_uri": "https://localhost:8080/"
        }
      },
      "source": [
        "classifier = train(out_dir, \"model\")"
      ],
      "execution_count": 8,
      "outputs": [
        {
          "output_type": "stream",
          "text": [
            "Epoch 1/170\n",
            "WARNING:tensorflow:Model was constructed with shape (None, 1, 17) for input Tensor(\"flatten_input:0\", shape=(None, 1, 17), dtype=float32), but it was called on an input with incompatible shape (None, 17).\n",
            "WARNING:tensorflow:Model was constructed with shape (None, 1, 17) for input Tensor(\"flatten_input:0\", shape=(None, 1, 17), dtype=float32), but it was called on an input with incompatible shape (None, 17).\n",
            " 1/39 [..............................] - ETA: 0s - loss: 3650926.2500 - accuracy: 0.6875WARNING:tensorflow:Model was constructed with shape (None, 1, 17) for input Tensor(\"flatten_input:0\", shape=(None, 1, 17), dtype=float32), but it was called on an input with incompatible shape (None, 17).\n",
            "39/39 [==============================] - 0s 6ms/step - loss: 8258532.5000 - accuracy: 0.7081 - val_loss: 4634594.0000 - val_accuracy: 0.6752\n",
            "Epoch 2/170\n",
            "39/39 [==============================] - 0s 2ms/step - loss: 2899551.5000 - accuracy: 0.7185 - val_loss: 2079957.0000 - val_accuracy: 0.7106\n",
            "Epoch 3/170\n",
            "39/39 [==============================] - 0s 2ms/step - loss: 1797707.7500 - accuracy: 0.7411 - val_loss: 1804415.6250 - val_accuracy: 0.7074\n",
            "Epoch 4/170\n",
            "39/39 [==============================] - 0s 2ms/step - loss: 1466000.8750 - accuracy: 0.7411 - val_loss: 1507808.8750 - val_accuracy: 0.6977\n",
            "Epoch 5/170\n",
            "39/39 [==============================] - 0s 2ms/step - loss: 1227642.3750 - accuracy: 0.7395 - val_loss: 1173015.0000 - val_accuracy: 0.7074\n",
            "Epoch 6/170\n",
            "39/39 [==============================] - 0s 2ms/step - loss: 719924.8750 - accuracy: 0.7395 - val_loss: 416920.6250 - val_accuracy: 0.7138\n",
            "Epoch 7/170\n",
            "39/39 [==============================] - 0s 2ms/step - loss: 149872.9375 - accuracy: 0.7565 - val_loss: 111387.7656 - val_accuracy: 0.7717\n",
            "Epoch 8/170\n",
            "39/39 [==============================] - 0s 2ms/step - loss: 102681.8047 - accuracy: 0.7581 - val_loss: 97932.6328 - val_accuracy: 0.7653\n",
            "Epoch 9/170\n",
            "39/39 [==============================] - 0s 2ms/step - loss: 113717.6250 - accuracy: 0.7540 - val_loss: 74166.7656 - val_accuracy: 0.7588\n",
            "Epoch 10/170\n",
            "39/39 [==============================] - 0s 2ms/step - loss: 48885.8594 - accuracy: 0.7653 - val_loss: 54105.7930 - val_accuracy: 0.7331\n",
            "Epoch 11/170\n",
            "39/39 [==============================] - 0s 2ms/step - loss: 54366.8789 - accuracy: 0.7315 - val_loss: 34387.8477 - val_accuracy: 0.7492\n",
            "Epoch 12/170\n",
            "39/39 [==============================] - 0s 2ms/step - loss: 35434.1055 - accuracy: 0.6863 - val_loss: 27500.6523 - val_accuracy: 0.7363\n",
            "Epoch 13/170\n",
            "39/39 [==============================] - 0s 2ms/step - loss: 53533.5117 - accuracy: 0.6645 - val_loss: 28249.1504 - val_accuracy: 0.7363\n",
            "Epoch 14/170\n",
            "39/39 [==============================] - 0s 2ms/step - loss: 41084.2031 - accuracy: 0.6718 - val_loss: 23900.6582 - val_accuracy: 0.7556\n",
            "Epoch 15/170\n",
            "39/39 [==============================] - 0s 1ms/step - loss: 74024.1094 - accuracy: 0.6153 - val_loss: 43053.4648 - val_accuracy: 0.3248\n",
            "Epoch 16/170\n",
            "39/39 [==============================] - 0s 2ms/step - loss: 80303.5000 - accuracy: 0.6347 - val_loss: 52645.3945 - val_accuracy: 0.7267\n",
            "Epoch 17/170\n",
            "39/39 [==============================] - 0s 2ms/step - loss: 55097.7227 - accuracy: 0.6895 - val_loss: 24837.1797 - val_accuracy: 0.7363\n",
            "Epoch 18/170\n",
            "39/39 [==============================] - 0s 2ms/step - loss: 61948.9023 - accuracy: 0.6798 - val_loss: 71751.7266 - val_accuracy: 0.7299\n",
            "Epoch 19/170\n",
            "39/39 [==============================] - 0s 1ms/step - loss: 45157.7422 - accuracy: 0.6653 - val_loss: 40385.3047 - val_accuracy: 0.7556\n",
            "Epoch 20/170\n",
            "39/39 [==============================] - 0s 2ms/step - loss: 32738.8164 - accuracy: 0.7056 - val_loss: 17434.2910 - val_accuracy: 0.7363\n",
            "Epoch 21/170\n",
            "39/39 [==============================] - 0s 2ms/step - loss: 31455.3750 - accuracy: 0.7016 - val_loss: 16434.3008 - val_accuracy: 0.7749\n",
            "Epoch 22/170\n",
            "39/39 [==============================] - 0s 2ms/step - loss: 32295.3574 - accuracy: 0.7008 - val_loss: 25771.3438 - val_accuracy: 0.7749\n",
            "Epoch 23/170\n",
            "39/39 [==============================] - 0s 2ms/step - loss: 35667.6797 - accuracy: 0.6806 - val_loss: 79478.8203 - val_accuracy: 0.7363\n",
            "Epoch 24/170\n",
            "39/39 [==============================] - 0s 2ms/step - loss: 43963.3789 - accuracy: 0.6710 - val_loss: 15944.1387 - val_accuracy: 0.7781\n",
            "Epoch 25/170\n",
            "39/39 [==============================] - 0s 2ms/step - loss: 30643.4102 - accuracy: 0.7290 - val_loss: 19427.8633 - val_accuracy: 0.7878\n",
            "Epoch 26/170\n",
            "39/39 [==============================] - 0s 2ms/step - loss: 42614.0039 - accuracy: 0.7040 - val_loss: 17545.8008 - val_accuracy: 0.7878\n",
            "Epoch 27/170\n",
            "39/39 [==============================] - 0s 2ms/step - loss: 28509.2168 - accuracy: 0.6895 - val_loss: 15687.0566 - val_accuracy: 0.8199\n",
            "Epoch 28/170\n",
            "39/39 [==============================] - 0s 2ms/step - loss: 35140.8516 - accuracy: 0.7387 - val_loss: 15798.7168 - val_accuracy: 0.8006\n",
            "Epoch 29/170\n",
            "39/39 [==============================] - 0s 2ms/step - loss: 78721.1094 - accuracy: 0.6903 - val_loss: 75589.0391 - val_accuracy: 0.7267\n",
            "Epoch 30/170\n",
            "39/39 [==============================] - 0s 2ms/step - loss: 38351.0156 - accuracy: 0.7242 - val_loss: 16812.6895 - val_accuracy: 0.7203\n",
            "Epoch 31/170\n",
            "39/39 [==============================] - 0s 2ms/step - loss: 86338.2109 - accuracy: 0.6935 - val_loss: 45060.9375 - val_accuracy: 0.7395\n",
            "Epoch 32/170\n",
            "39/39 [==============================] - 0s 2ms/step - loss: 33332.9961 - accuracy: 0.7040 - val_loss: 19115.8496 - val_accuracy: 0.7814\n",
            "Epoch 33/170\n",
            "39/39 [==============================] - 0s 2ms/step - loss: 34677.8672 - accuracy: 0.7532 - val_loss: 19644.0859 - val_accuracy: 0.8071\n",
            "Epoch 34/170\n",
            "39/39 [==============================] - 0s 2ms/step - loss: 40013.8125 - accuracy: 0.7242 - val_loss: 22885.9492 - val_accuracy: 0.8039\n",
            "Epoch 35/170\n",
            "39/39 [==============================] - 0s 2ms/step - loss: 47612.8906 - accuracy: 0.7177 - val_loss: 19765.7207 - val_accuracy: 0.7781\n",
            "Epoch 36/170\n",
            "39/39 [==============================] - 0s 2ms/step - loss: 29840.4316 - accuracy: 0.7565 - val_loss: 41005.6328 - val_accuracy: 0.7299\n",
            "Epoch 37/170\n",
            "39/39 [==============================] - 0s 2ms/step - loss: 40763.4375 - accuracy: 0.7315 - val_loss: 22594.9902 - val_accuracy: 0.8360\n",
            "Epoch 38/170\n",
            "39/39 [==============================] - 0s 2ms/step - loss: 31855.9766 - accuracy: 0.7508 - val_loss: 8740.1514 - val_accuracy: 0.7299\n",
            "Epoch 39/170\n",
            "39/39 [==============================] - 0s 2ms/step - loss: 24340.7461 - accuracy: 0.7903 - val_loss: 25865.6953 - val_accuracy: 0.8039\n",
            "Epoch 40/170\n",
            "39/39 [==============================] - 0s 2ms/step - loss: 32497.1719 - accuracy: 0.7258 - val_loss: 52057.8633 - val_accuracy: 0.7910\n",
            "Epoch 41/170\n",
            "39/39 [==============================] - 0s 2ms/step - loss: 47847.6562 - accuracy: 0.7282 - val_loss: 48057.6641 - val_accuracy: 0.7653\n",
            "Epoch 42/170\n",
            "39/39 [==============================] - 0s 2ms/step - loss: 39880.3945 - accuracy: 0.7565 - val_loss: 44767.4453 - val_accuracy: 0.8071\n",
            "Epoch 43/170\n",
            "39/39 [==============================] - 0s 2ms/step - loss: 34232.5469 - accuracy: 0.7508 - val_loss: 7496.1943 - val_accuracy: 0.8682\n",
            "Epoch 44/170\n",
            "39/39 [==============================] - 0s 2ms/step - loss: 37489.6758 - accuracy: 0.7435 - val_loss: 15157.9531 - val_accuracy: 0.8199\n",
            "Epoch 45/170\n",
            "39/39 [==============================] - 0s 2ms/step - loss: 25839.5410 - accuracy: 0.7782 - val_loss: 12903.4570 - val_accuracy: 0.8457\n",
            "Epoch 46/170\n",
            "39/39 [==============================] - 0s 2ms/step - loss: 29218.7461 - accuracy: 0.8129 - val_loss: 15593.8955 - val_accuracy: 0.8199\n",
            "Epoch 47/170\n",
            "39/39 [==============================] - 0s 2ms/step - loss: 33446.9336 - accuracy: 0.7589 - val_loss: 9946.0342 - val_accuracy: 0.8392\n",
            "Epoch 48/170\n",
            "39/39 [==============================] - 0s 2ms/step - loss: 18029.9590 - accuracy: 0.8016 - val_loss: 15418.7139 - val_accuracy: 0.8424\n",
            "Epoch 49/170\n",
            "39/39 [==============================] - 0s 1ms/step - loss: 20261.6895 - accuracy: 0.7718 - val_loss: 21685.4570 - val_accuracy: 0.7203\n",
            "Epoch 50/170\n",
            "39/39 [==============================] - 0s 2ms/step - loss: 37381.8203 - accuracy: 0.7758 - val_loss: 12212.0654 - val_accuracy: 0.8103\n",
            "Epoch 51/170\n",
            "39/39 [==============================] - 0s 2ms/step - loss: 34178.4141 - accuracy: 0.7597 - val_loss: 21867.0742 - val_accuracy: 0.8650\n",
            "Epoch 52/170\n",
            "39/39 [==============================] - 0s 2ms/step - loss: 23611.3848 - accuracy: 0.7871 - val_loss: 38166.4805 - val_accuracy: 0.8135\n",
            "Epoch 53/170\n",
            "39/39 [==============================] - 0s 2ms/step - loss: 34469.7188 - accuracy: 0.7952 - val_loss: 11741.2930 - val_accuracy: 0.4887\n",
            "Epoch 54/170\n",
            "39/39 [==============================] - 0s 2ms/step - loss: 28047.6895 - accuracy: 0.7911 - val_loss: 7441.3369 - val_accuracy: 0.8617\n",
            "Epoch 55/170\n",
            "39/39 [==============================] - 0s 2ms/step - loss: 47756.2578 - accuracy: 0.7839 - val_loss: 36617.5000 - val_accuracy: 0.7621\n",
            "Epoch 56/170\n",
            "39/39 [==============================] - 0s 2ms/step - loss: 29075.5703 - accuracy: 0.7202 - val_loss: 8458.7480 - val_accuracy: 0.8682\n",
            "Epoch 57/170\n",
            "39/39 [==============================] - 0s 2ms/step - loss: 13666.2246 - accuracy: 0.8371 - val_loss: 8961.1621 - val_accuracy: 0.8617\n",
            "Epoch 58/170\n",
            "39/39 [==============================] - 0s 2ms/step - loss: 32668.4453 - accuracy: 0.8024 - val_loss: 10710.9521 - val_accuracy: 0.8296\n",
            "Epoch 59/170\n",
            "39/39 [==============================] - 0s 1ms/step - loss: 14114.6416 - accuracy: 0.8556 - val_loss: 6559.5776 - val_accuracy: 0.8714\n",
            "Epoch 60/170\n",
            "39/39 [==============================] - 0s 2ms/step - loss: 13837.6094 - accuracy: 0.8565 - val_loss: 6186.1694 - val_accuracy: 0.8457\n",
            "Epoch 61/170\n",
            "39/39 [==============================] - 0s 2ms/step - loss: 19849.2676 - accuracy: 0.8194 - val_loss: 12797.3027 - val_accuracy: 0.8682\n",
            "Epoch 62/170\n",
            "39/39 [==============================] - 0s 2ms/step - loss: 21679.4395 - accuracy: 0.8468 - val_loss: 22570.5293 - val_accuracy: 0.7974\n",
            "Epoch 63/170\n",
            "39/39 [==============================] - 0s 2ms/step - loss: 23710.3750 - accuracy: 0.8210 - val_loss: 11959.3809 - val_accuracy: 0.8006\n",
            "Epoch 64/170\n",
            "39/39 [==============================] - 0s 2ms/step - loss: 35069.2461 - accuracy: 0.7718 - val_loss: 6348.6851 - val_accuracy: 0.8746\n",
            "Epoch 65/170\n",
            "39/39 [==============================] - 0s 2ms/step - loss: 21471.6992 - accuracy: 0.8113 - val_loss: 36339.9688 - val_accuracy: 0.3537\n",
            "Epoch 66/170\n",
            "39/39 [==============================] - 0s 2ms/step - loss: 54369.0195 - accuracy: 0.7645 - val_loss: 12010.5156 - val_accuracy: 0.8071\n",
            "Epoch 67/170\n",
            "39/39 [==============================] - 0s 2ms/step - loss: 38758.3594 - accuracy: 0.8282 - val_loss: 35335.5547 - val_accuracy: 0.8135\n",
            "Epoch 68/170\n",
            "39/39 [==============================] - 0s 1ms/step - loss: 50906.4336 - accuracy: 0.7395 - val_loss: 11414.7412 - val_accuracy: 0.8424\n",
            "Epoch 69/170\n",
            "39/39 [==============================] - 0s 2ms/step - loss: 22996.2402 - accuracy: 0.7911 - val_loss: 16208.6660 - val_accuracy: 0.8714\n",
            "Epoch 70/170\n",
            "39/39 [==============================] - 0s 2ms/step - loss: 17304.5879 - accuracy: 0.8581 - val_loss: 6540.1592 - val_accuracy: 0.8778\n",
            "Epoch 71/170\n",
            "39/39 [==============================] - 0s 2ms/step - loss: 25962.0840 - accuracy: 0.8403 - val_loss: 11704.3994 - val_accuracy: 0.8553\n",
            "Epoch 72/170\n",
            "39/39 [==============================] - 0s 2ms/step - loss: 22542.5195 - accuracy: 0.8331 - val_loss: 10064.1074 - val_accuracy: 0.8489\n",
            "Epoch 73/170\n",
            "39/39 [==============================] - 0s 2ms/step - loss: 21277.1094 - accuracy: 0.8371 - val_loss: 22743.4141 - val_accuracy: 0.8457\n",
            "Epoch 74/170\n",
            "39/39 [==============================] - 0s 2ms/step - loss: 50804.3711 - accuracy: 0.7637 - val_loss: 9878.2910 - val_accuracy: 0.7814\n",
            "Epoch 75/170\n",
            "39/39 [==============================] - 0s 2ms/step - loss: 19865.9355 - accuracy: 0.8637 - val_loss: 9980.6396 - val_accuracy: 0.8489\n",
            "Epoch 76/170\n",
            "39/39 [==============================] - 0s 2ms/step - loss: 42663.9922 - accuracy: 0.8298 - val_loss: 7884.8979 - val_accuracy: 0.8778\n",
            "Epoch 77/170\n",
            "39/39 [==============================] - 0s 2ms/step - loss: 40349.8477 - accuracy: 0.7895 - val_loss: 24282.9863 - val_accuracy: 0.8907\n",
            "Epoch 78/170\n",
            "39/39 [==============================] - 0s 2ms/step - loss: 40462.3945 - accuracy: 0.7629 - val_loss: 9836.1807 - val_accuracy: 0.8392\n",
            "Epoch 79/170\n",
            "39/39 [==============================] - 0s 2ms/step - loss: 18767.3750 - accuracy: 0.8565 - val_loss: 7439.0942 - val_accuracy: 0.8650\n",
            "Epoch 80/170\n",
            "39/39 [==============================] - 0s 2ms/step - loss: 18267.3203 - accuracy: 0.8516 - val_loss: 7628.0361 - val_accuracy: 0.8682\n",
            "Epoch 81/170\n",
            "39/39 [==============================] - 0s 2ms/step - loss: 41538.0039 - accuracy: 0.8298 - val_loss: 14316.7295 - val_accuracy: 0.8360\n",
            "Epoch 82/170\n",
            "39/39 [==============================] - 0s 2ms/step - loss: 27416.6074 - accuracy: 0.7613 - val_loss: 102278.6484 - val_accuracy: 0.7588\n",
            "Epoch 83/170\n",
            "39/39 [==============================] - 0s 2ms/step - loss: 23605.7539 - accuracy: 0.7992 - val_loss: 6838.6011 - val_accuracy: 0.8714\n",
            "Epoch 84/170\n",
            "39/39 [==============================] - 0s 2ms/step - loss: 13597.1738 - accuracy: 0.8823 - val_loss: 6899.8804 - val_accuracy: 0.8682\n",
            "Epoch 85/170\n",
            "39/39 [==============================] - 0s 2ms/step - loss: 13728.0098 - accuracy: 0.8677 - val_loss: 41155.6602 - val_accuracy: 0.8006\n",
            "Epoch 86/170\n",
            "39/39 [==============================] - 0s 2ms/step - loss: 40354.4414 - accuracy: 0.7831 - val_loss: 11850.1641 - val_accuracy: 0.8521\n",
            "Epoch 87/170\n",
            "39/39 [==============================] - 0s 2ms/step - loss: 20870.4102 - accuracy: 0.8589 - val_loss: 42117.4453 - val_accuracy: 0.7974\n",
            "Epoch 88/170\n",
            "39/39 [==============================] - 0s 2ms/step - loss: 21039.2930 - accuracy: 0.8774 - val_loss: 10479.4121 - val_accuracy: 0.8746\n",
            "Epoch 89/170\n",
            "39/39 [==============================] - 0s 2ms/step - loss: 11562.6904 - accuracy: 0.8726 - val_loss: 8093.1133 - val_accuracy: 0.8842\n",
            "Epoch 90/170\n",
            "39/39 [==============================] - 0s 2ms/step - loss: 14734.3711 - accuracy: 0.8823 - val_loss: 7420.1123 - val_accuracy: 0.8939\n",
            "Epoch 91/170\n",
            "39/39 [==============================] - 0s 2ms/step - loss: 26369.3066 - accuracy: 0.7710 - val_loss: 22262.3262 - val_accuracy: 0.8457\n",
            "Epoch 92/170\n",
            "39/39 [==============================] - 0s 2ms/step - loss: 41389.6211 - accuracy: 0.8169 - val_loss: 16657.9082 - val_accuracy: 0.8875\n",
            "Epoch 93/170\n",
            "39/39 [==============================] - 0s 2ms/step - loss: 25954.9863 - accuracy: 0.7823 - val_loss: 12964.4521 - val_accuracy: 0.8167\n",
            "Epoch 94/170\n",
            "39/39 [==============================] - 0s 2ms/step - loss: 14410.5967 - accuracy: 0.8524 - val_loss: 13575.1768 - val_accuracy: 0.8167\n",
            "Epoch 95/170\n",
            "39/39 [==============================] - 0s 2ms/step - loss: 21121.8379 - accuracy: 0.8452 - val_loss: 10183.6260 - val_accuracy: 0.8907\n",
            "Epoch 96/170\n",
            "39/39 [==============================] - 0s 2ms/step - loss: 20246.3926 - accuracy: 0.8508 - val_loss: 19515.1035 - val_accuracy: 0.7878\n",
            "Epoch 97/170\n",
            "39/39 [==============================] - 0s 2ms/step - loss: 16401.5762 - accuracy: 0.8798 - val_loss: 11106.0303 - val_accuracy: 0.8810\n",
            "Epoch 98/170\n",
            "39/39 [==============================] - 0s 2ms/step - loss: 16894.3047 - accuracy: 0.8677 - val_loss: 7430.7627 - val_accuracy: 0.8778\n",
            "Epoch 99/170\n",
            "39/39 [==============================] - 0s 2ms/step - loss: 62338.4844 - accuracy: 0.8258 - val_loss: 34386.9766 - val_accuracy: 0.3183\n",
            "Epoch 100/170\n",
            "39/39 [==============================] - 0s 2ms/step - loss: 55662.6562 - accuracy: 0.7056 - val_loss: 17530.1504 - val_accuracy: 0.8682\n",
            "Epoch 101/170\n",
            "39/39 [==============================] - 0s 2ms/step - loss: 42533.1953 - accuracy: 0.7815 - val_loss: 26922.6895 - val_accuracy: 0.3698\n",
            "Epoch 102/170\n",
            "39/39 [==============================] - 0s 2ms/step - loss: 29422.9902 - accuracy: 0.8056 - val_loss: 14876.7881 - val_accuracy: 0.8103\n",
            "Epoch 103/170\n",
            "39/39 [==============================] - 0s 2ms/step - loss: 23799.2812 - accuracy: 0.8290 - val_loss: 9222.8984 - val_accuracy: 0.8328\n",
            "Epoch 104/170\n",
            "39/39 [==============================] - 0s 2ms/step - loss: 14382.5840 - accuracy: 0.8863 - val_loss: 10401.4746 - val_accuracy: 0.8875\n",
            "Epoch 105/170\n",
            "39/39 [==============================] - 0s 2ms/step - loss: 46381.1719 - accuracy: 0.8089 - val_loss: 24776.5566 - val_accuracy: 0.8071\n",
            "Epoch 106/170\n",
            "39/39 [==============================] - 0s 2ms/step - loss: 21593.3398 - accuracy: 0.8444 - val_loss: 22434.3105 - val_accuracy: 0.8907\n",
            "Epoch 107/170\n",
            "39/39 [==============================] - 0s 2ms/step - loss: 35225.9922 - accuracy: 0.8411 - val_loss: 22338.8945 - val_accuracy: 0.7878\n",
            "Epoch 108/170\n",
            "39/39 [==============================] - 0s 2ms/step - loss: 22879.1719 - accuracy: 0.8266 - val_loss: 30841.2188 - val_accuracy: 0.8907\n",
            "Epoch 109/170\n",
            "39/39 [==============================] - 0s 2ms/step - loss: 23089.3906 - accuracy: 0.8153 - val_loss: 10102.9775 - val_accuracy: 0.8778\n",
            "Epoch 110/170\n",
            "39/39 [==============================] - 0s 2ms/step - loss: 34531.8867 - accuracy: 0.8355 - val_loss: 46278.6445 - val_accuracy: 0.8135\n",
            "Epoch 111/170\n",
            "39/39 [==============================] - 0s 2ms/step - loss: 57871.3594 - accuracy: 0.7339 - val_loss: 27682.5625 - val_accuracy: 0.8103\n",
            "Epoch 112/170\n",
            "39/39 [==============================] - 0s 2ms/step - loss: 46291.9102 - accuracy: 0.7581 - val_loss: 12570.9785 - val_accuracy: 0.8264\n",
            "Epoch 113/170\n",
            "39/39 [==============================] - 0s 2ms/step - loss: 24365.1074 - accuracy: 0.8484 - val_loss: 7161.1133 - val_accuracy: 0.8746\n",
            "Epoch 114/170\n",
            "39/39 [==============================] - 0s 2ms/step - loss: 45516.7852 - accuracy: 0.8540 - val_loss: 16171.0850 - val_accuracy: 0.8232\n",
            "Epoch 115/170\n",
            "39/39 [==============================] - 0s 2ms/step - loss: 19675.1289 - accuracy: 0.8726 - val_loss: 5229.1479 - val_accuracy: 0.9068\n",
            "Epoch 116/170\n",
            "39/39 [==============================] - 0s 2ms/step - loss: 24125.8965 - accuracy: 0.8315 - val_loss: 14353.2334 - val_accuracy: 0.8264\n",
            "Epoch 117/170\n",
            "39/39 [==============================] - 0s 2ms/step - loss: 19832.3574 - accuracy: 0.8161 - val_loss: 14099.1660 - val_accuracy: 0.8778\n",
            "Epoch 118/170\n",
            "39/39 [==============================] - 0s 2ms/step - loss: 19192.2656 - accuracy: 0.8331 - val_loss: 22597.2578 - val_accuracy: 0.8199\n",
            "Epoch 119/170\n",
            "39/39 [==============================] - 0s 2ms/step - loss: 25532.3262 - accuracy: 0.8419 - val_loss: 13721.1494 - val_accuracy: 0.8971\n",
            "Epoch 120/170\n",
            "39/39 [==============================] - 0s 2ms/step - loss: 23954.7227 - accuracy: 0.8734 - val_loss: 24423.5840 - val_accuracy: 0.8971\n",
            "Epoch 121/170\n",
            "39/39 [==============================] - 0s 2ms/step - loss: 24436.4082 - accuracy: 0.8258 - val_loss: 8536.4697 - val_accuracy: 0.8939\n",
            "Epoch 122/170\n",
            "39/39 [==============================] - 0s 2ms/step - loss: 28199.0684 - accuracy: 0.8613 - val_loss: 5804.5708 - val_accuracy: 0.9003\n",
            "Epoch 123/170\n",
            "39/39 [==============================] - 0s 3ms/step - loss: 16309.9404 - accuracy: 0.8887 - val_loss: 8972.1377 - val_accuracy: 0.8842\n",
            "Epoch 124/170\n",
            "39/39 [==============================] - 0s 2ms/step - loss: 13811.0488 - accuracy: 0.8847 - val_loss: 12393.6865 - val_accuracy: 0.8746\n",
            "Epoch 125/170\n",
            "39/39 [==============================] - 0s 2ms/step - loss: 20160.3945 - accuracy: 0.8500 - val_loss: 7956.2397 - val_accuracy: 0.5434\n",
            "Epoch 126/170\n",
            "39/39 [==============================] - 0s 2ms/step - loss: 12556.1270 - accuracy: 0.8250 - val_loss: 6475.2510 - val_accuracy: 0.9035\n",
            "Epoch 127/170\n",
            "39/39 [==============================] - 0s 2ms/step - loss: 18446.1719 - accuracy: 0.8766 - val_loss: 14323.8984 - val_accuracy: 0.8457\n",
            "Epoch 128/170\n",
            "39/39 [==============================] - 0s 2ms/step - loss: 16710.1152 - accuracy: 0.8565 - val_loss: 10911.7676 - val_accuracy: 0.8167\n",
            "Epoch 129/170\n",
            "39/39 [==============================] - 0s 3ms/step - loss: 32680.6250 - accuracy: 0.7903 - val_loss: 37191.6836 - val_accuracy: 0.8714\n",
            "Epoch 130/170\n",
            "39/39 [==============================] - 0s 2ms/step - loss: 31383.9297 - accuracy: 0.8524 - val_loss: 6648.6597 - val_accuracy: 0.8939\n",
            "Epoch 131/170\n",
            "39/39 [==============================] - 0s 3ms/step - loss: 39399.8242 - accuracy: 0.8298 - val_loss: 20343.2402 - val_accuracy: 0.3473\n",
            "Epoch 132/170\n",
            "39/39 [==============================] - 0s 2ms/step - loss: 71703.9688 - accuracy: 0.6839 - val_loss: 14497.3379 - val_accuracy: 0.8521\n",
            "Epoch 133/170\n",
            "39/39 [==============================] - 0s 2ms/step - loss: 12811.7852 - accuracy: 0.8202 - val_loss: 14532.3760 - val_accuracy: 0.8907\n",
            "Epoch 134/170\n",
            "39/39 [==============================] - 0s 2ms/step - loss: 16532.7832 - accuracy: 0.8798 - val_loss: 8781.4707 - val_accuracy: 0.8778\n",
            "Epoch 135/170\n",
            "39/39 [==============================] - 0s 2ms/step - loss: 20088.6406 - accuracy: 0.8677 - val_loss: 21669.8281 - val_accuracy: 0.8585\n",
            "Epoch 136/170\n",
            "39/39 [==============================] - 0s 2ms/step - loss: 23440.4082 - accuracy: 0.8073 - val_loss: 15130.2637 - val_accuracy: 0.8071\n",
            "Epoch 137/170\n",
            "39/39 [==============================] - 0s 2ms/step - loss: 19214.6641 - accuracy: 0.8766 - val_loss: 5653.8384 - val_accuracy: 0.9035\n",
            "Epoch 138/170\n",
            "39/39 [==============================] - 0s 2ms/step - loss: 15990.8125 - accuracy: 0.9024 - val_loss: 10501.0293 - val_accuracy: 0.8875\n",
            "Epoch 139/170\n",
            "39/39 [==============================] - 0s 2ms/step - loss: 40507.7617 - accuracy: 0.8000 - val_loss: 10031.2461 - val_accuracy: 0.8489\n",
            "Epoch 140/170\n",
            "39/39 [==============================] - 0s 2ms/step - loss: 10628.2910 - accuracy: 0.8806 - val_loss: 5748.3853 - val_accuracy: 0.8714\n",
            "Epoch 141/170\n",
            "39/39 [==============================] - 0s 2ms/step - loss: 10664.3604 - accuracy: 0.8855 - val_loss: 15469.3105 - val_accuracy: 0.9035\n",
            "Epoch 142/170\n",
            "39/39 [==============================] - 0s 2ms/step - loss: 46407.1680 - accuracy: 0.7565 - val_loss: 11944.0107 - val_accuracy: 0.8424\n",
            "Epoch 143/170\n",
            "39/39 [==============================] - 0s 2ms/step - loss: 24269.8105 - accuracy: 0.8532 - val_loss: 15933.1973 - val_accuracy: 0.9035\n",
            "Epoch 144/170\n",
            "39/39 [==============================] - 0s 2ms/step - loss: 18699.4785 - accuracy: 0.8927 - val_loss: 17276.5859 - val_accuracy: 0.9035\n",
            "Epoch 145/170\n",
            "39/39 [==============================] - 0s 2ms/step - loss: 19410.8652 - accuracy: 0.8782 - val_loss: 5753.7783 - val_accuracy: 0.9035\n",
            "Epoch 146/170\n",
            "39/39 [==============================] - 0s 2ms/step - loss: 12436.3633 - accuracy: 0.8919 - val_loss: 5418.3760 - val_accuracy: 0.9228\n",
            "Epoch 147/170\n",
            "39/39 [==============================] - 0s 2ms/step - loss: 28473.0234 - accuracy: 0.8629 - val_loss: 57521.7617 - val_accuracy: 0.9003\n",
            "Epoch 148/170\n",
            "39/39 [==============================] - 0s 2ms/step - loss: 124105.2891 - accuracy: 0.7702 - val_loss: 63248.1875 - val_accuracy: 0.8842\n",
            "Epoch 149/170\n",
            "39/39 [==============================] - 0s 2ms/step - loss: 82419.1328 - accuracy: 0.7516 - val_loss: 28664.2949 - val_accuracy: 0.3633\n",
            "Epoch 150/170\n",
            "39/39 [==============================] - 0s 2ms/step - loss: 46770.3359 - accuracy: 0.8008 - val_loss: 19421.5332 - val_accuracy: 0.8971\n",
            "Epoch 151/170\n",
            "39/39 [==============================] - 0s 2ms/step - loss: 32368.8848 - accuracy: 0.8766 - val_loss: 12442.0342 - val_accuracy: 0.7846\n",
            "Epoch 152/170\n",
            "39/39 [==============================] - 0s 2ms/step - loss: 28559.3867 - accuracy: 0.8516 - val_loss: 12145.3311 - val_accuracy: 0.8424\n",
            "Epoch 153/170\n",
            "39/39 [==============================] - 0s 2ms/step - loss: 10970.4883 - accuracy: 0.8879 - val_loss: 8569.1875 - val_accuracy: 0.8939\n",
            "Epoch 154/170\n",
            "39/39 [==============================] - 0s 3ms/step - loss: 14880.1660 - accuracy: 0.8823 - val_loss: 7674.0674 - val_accuracy: 0.9035\n",
            "Epoch 155/170\n",
            "39/39 [==============================] - 0s 2ms/step - loss: 22233.5957 - accuracy: 0.8565 - val_loss: 5973.3262 - val_accuracy: 0.9164\n",
            "Epoch 156/170\n",
            "39/39 [==============================] - 0s 3ms/step - loss: 48520.2344 - accuracy: 0.7637 - val_loss: 20844.5078 - val_accuracy: 0.8585\n",
            "Epoch 157/170\n",
            "39/39 [==============================] - 0s 2ms/step - loss: 67798.7891 - accuracy: 0.7992 - val_loss: 18543.2012 - val_accuracy: 0.8617\n",
            "Epoch 158/170\n",
            "39/39 [==============================] - 0s 2ms/step - loss: 24515.9453 - accuracy: 0.8298 - val_loss: 6437.7886 - val_accuracy: 0.9132\n",
            "Epoch 159/170\n",
            "39/39 [==============================] - 0s 3ms/step - loss: 15799.2578 - accuracy: 0.8782 - val_loss: 6158.2568 - val_accuracy: 0.9100\n",
            "Epoch 160/170\n",
            "39/39 [==============================] - 0s 2ms/step - loss: 11492.5947 - accuracy: 0.9032 - val_loss: 12842.6582 - val_accuracy: 0.8971\n",
            "Epoch 161/170\n",
            "39/39 [==============================] - 0s 3ms/step - loss: 21200.2812 - accuracy: 0.8766 - val_loss: 14960.0898 - val_accuracy: 0.8842\n",
            "Epoch 162/170\n",
            "39/39 [==============================] - 0s 2ms/step - loss: 18657.1309 - accuracy: 0.8823 - val_loss: 9087.3057 - val_accuracy: 0.8392\n",
            "Epoch 163/170\n",
            "39/39 [==============================] - 0s 2ms/step - loss: 23258.3555 - accuracy: 0.8516 - val_loss: 7874.8047 - val_accuracy: 0.8971\n",
            "Epoch 164/170\n",
            "39/39 [==============================] - 0s 2ms/step - loss: 16989.6133 - accuracy: 0.8919 - val_loss: 10931.7256 - val_accuracy: 0.8907\n",
            "Epoch 165/170\n",
            "39/39 [==============================] - 0s 2ms/step - loss: 23700.8730 - accuracy: 0.8685 - val_loss: 37149.7617 - val_accuracy: 0.8232\n",
            "Epoch 166/170\n",
            "39/39 [==============================] - 0s 3ms/step - loss: 57063.1953 - accuracy: 0.7613 - val_loss: 58219.1133 - val_accuracy: 0.8585\n",
            "Epoch 167/170\n",
            "39/39 [==============================] - 0s 2ms/step - loss: 25789.1738 - accuracy: 0.8089 - val_loss: 9142.6152 - val_accuracy: 0.9068\n",
            "Epoch 168/170\n",
            "39/39 [==============================] - 0s 2ms/step - loss: 18907.8281 - accuracy: 0.8911 - val_loss: 5774.9585 - val_accuracy: 0.9196\n",
            "Epoch 169/170\n",
            "39/39 [==============================] - 0s 2ms/step - loss: 9169.8701 - accuracy: 0.8952 - val_loss: 7663.4692 - val_accuracy: 0.9100\n",
            "Epoch 170/170\n",
            "39/39 [==============================] - 0s 2ms/step - loss: 11115.1641 - accuracy: 0.8750 - val_loss: 33234.3281 - val_accuracy: 0.8264\n",
            "WARNING:tensorflow:From /usr/local/lib/python3.6/dist-packages/tensorflow/python/training/tracking/tracking.py:111: Model.state_updates (from tensorflow.python.keras.engine.training) is deprecated and will be removed in a future version.\n",
            "Instructions for updating:\n",
            "This property should not be used in TensorFlow 2.0, as updates are applied automatically.\n",
            "WARNING:tensorflow:From /usr/local/lib/python3.6/dist-packages/tensorflow/python/training/tracking/tracking.py:111: Layer.updates (from tensorflow.python.keras.engine.base_layer) is deprecated and will be removed in a future version.\n",
            "Instructions for updating:\n",
            "This property should not be used in TensorFlow 2.0, as updates are applied automatically.\n",
            "INFO:tensorflow:Assets written to: /content/gdrive/My Drive//model/assets\n"
          ],
          "name": "stdout"
        }
      ]
    },
    {
      "cell_type": "code",
      "metadata": {
        "id": "ZkOit1_g8-s-"
      },
      "source": [
        "def predict(data_path, model_file):\n",
        "    \n",
        "    import pickle\n",
        "    import tensorflow as tf\n",
        "    from tensorflow import keras\n",
        "    import numpy as np\n",
        "    \n",
        "    # Load the saved Keras model\n",
        "    classifier = keras.models.load_model(f'{data_path}/{model_file}')\n",
        "\n",
        "    # Load and unpack the test_data\n",
        "    with open(f'{data_path}/test_data','rb') as f:\n",
        "        test_data = pickle.load(f)\n",
        "    # Separate the X_test from y_test.\n",
        "    X_test,  y_test = test_data\n",
        "\n",
        "    # make predictions.\n",
        "    y_pred = classifier.predict(X_test)\n",
        "\n",
        "    # create a threshold\n",
        "    y_pred=(y_pred>0.5)\n",
        "    \n",
        "    with open(f'{data_path}/result.txt', 'w') as result:\n",
        "        result.write(\" Prediction: {}, Actual: {} \".format(y_pred,y_test.astype(np.bool)))\n",
        "    \n",
        "    print('Prediction has be saved successfully!')"
      ],
      "execution_count": 9,
      "outputs": []
    },
    {
      "cell_type": "code",
      "metadata": {
        "id": "0oqRnMSK-f0F",
        "outputId": "8cf63def-a598-493c-af61-260462dc684d",
        "colab": {
          "base_uri": "https://localhost:8080/"
        }
      },
      "source": [
        "predict(out_dir, \"model\")"
      ],
      "execution_count": 10,
      "outputs": [
        {
          "output_type": "stream",
          "text": [
            "WARNING:tensorflow:Model was constructed with shape (None, 1, 17) for input Tensor(\"flatten_input_1:0\", shape=(None, 1, 17), dtype=float32), but it was called on an input with incompatible shape (None, 17).\n",
            "Prediction has be saved successfully!\n"
          ],
          "name": "stdout"
        }
      ]
    },
    {
      "cell_type": "code",
      "metadata": {
        "id": "uCtZwuin-jsV"
      },
      "source": [
        "# Create train and predict lightweight components.\n",
        "train_op = comp.func_to_container_op(train , base_image = \"tensorflow/tensorflow:latest-gpu-py3\")\n",
        "predict_op = comp.func_to_container_op(predict , base_image = \"tensorflow/tensorflow:latest-gpu-py3\")"
      ],
      "execution_count": 11,
      "outputs": []
    },
    {
      "cell_type": "markdown",
      "metadata": {
        "id": "qipkX0As_cul"
      },
      "source": [
        "#Build a Kubeflow Pipeline"
      ]
    },
    {
      "cell_type": "code",
      "metadata": {
        "id": "lOeXDGFu_W05"
      },
      "source": [
        "import kfp.dsl as dsl\n",
        "@dsl.pipeline(\n",
        "   name='Campaign finance pipeline',\n",
        "   description='A classification pipeline that performs predictions on electoral results.'\n",
        ")\n",
        "def camp_pipeline(\n",
        "  data_path: str,\n",
        "  model_file: str\n",
        "):\n",
        "   # Define volume to share data between components.\n",
        "    vop = dsl.VolumeOp(\n",
        "    name=\"create_volume\",\n",
        "    resource_name=\"data-volume\", \n",
        "    size=\"1Gi\", \n",
        "    modes=dsl.VOLUME_MODE_RWO)\n",
        "    \n",
        "    # Create churn training component.\n",
        "    churn_training_container = train_op(data_path, model_file) \\\n",
        "                                    .add_pvolumes({data_path: vop.volume})\n",
        "\n",
        "    # Create Churn prediction component.\n",
        "    churn_predict_container = predict_op(data_path, model_file) \\\n",
        "                                    .add_pvolumes({data_path: churn_training_container.pvolume})\n",
        "    \n",
        "    # Print the result of the prediction\n",
        "    churn_result_container = dsl.ContainerOp(\n",
        "        name=\"print_prediction\",\n",
        "        image='library/bash:4.4.23',\n",
        "        pvolumes={data_path: churn_predict_container.pvolume},\n",
        "        arguments=['cat', f'{data_path}/result.txt']\n",
        "    )"
      ],
      "execution_count": 12,
      "outputs": []
    },
    {
      "cell_type": "code",
      "metadata": {
        "id": "gPk9TtRfOVgX"
      },
      "source": [
        "DATA_PATH = '/mnt'\n",
        "MODEL_PATH='churn_classifier.h5'"
      ],
      "execution_count": 13,
      "outputs": []
    },
    {
      "cell_type": "code",
      "metadata": {
        "id": "rSC_74fdDot2"
      },
      "source": [
        "pipeline_func = camp_pipeline"
      ],
      "execution_count": 14,
      "outputs": []
    },
    {
      "cell_type": "code",
      "metadata": {
        "id": "GYypERS4Dxq3"
      },
      "source": [
        "experiment_name = 'campaign_finance_kubeflow'\n",
        "run_name = pipeline_func.__name__ + ' run'\n",
        "\n",
        "arguments = {\"data_path\":DATA_PATH,\n",
        "             \"model_file\":MODEL_PATH}\n",
        "\n",
        "# Compile pipeline to generate compressed YAML definition of the pipeline.\n",
        "kfp.compiler.Compiler().compile(pipeline_func,  \n",
        "  '{}.zip'.format(experiment_name))"
      ],
      "execution_count": 15,
      "outputs": []
    },
    {
      "cell_type": "code",
      "metadata": {
        "id": "9ylhmQKSEKuq"
      },
      "source": [
        ""
      ],
      "execution_count": 15,
      "outputs": []
    }
  ]
}