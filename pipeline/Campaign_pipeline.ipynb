{
  "nbformat": 4,
  "nbformat_minor": 0,
  "metadata": {
    "colab": {
      "name": "Campaign_pipeline.ipynb",
      "provenance": [],
      "toc_visible": true
    },
    "kernelspec": {
      "name": "python3",
      "display_name": "Python 3"
    }
  },
  "cells": [
    {
      "cell_type": "markdown",
      "metadata": {
        "id": "Zk43EoB72DyO"
      },
      "source": [
        "#Install Kubeflow Pipelines SDK"
      ]
    },
    {
      "cell_type": "code",
      "metadata": {
        "id": "xKFGGtNk-sI9"
      },
      "source": [
        "# Install the SDK\n",
        "!pip3 install 'kfp>=0.1.31.2' --quiet"
      ],
      "execution_count": 1,
      "outputs": []
    },
    {
      "cell_type": "code",
      "metadata": {
        "id": "vnx9I5Lr1vyn",
        "outputId": "7f239be6-231b-4263-9ed8-0cb43c72aeb7",
        "colab": {
          "base_uri": "https://localhost:8080/"
        }
      },
      "source": [
        "!which dsl-compile #Check if the install was successful"
      ],
      "execution_count": 4,
      "outputs": [
        {
          "output_type": "stream",
          "text": [
            "/usr/local/bin/dsl-compile\n"
          ],
          "name": "stdout"
        }
      ]
    },
    {
      "cell_type": "markdown",
      "metadata": {
        "id": "173cnxFm3Qy2"
      },
      "source": [
        "#Build the Components"
      ]
    },
    {
      "cell_type": "code",
      "metadata": {
        "id": "pKsGLL_N1lv_"
      },
      "source": [
        "import kfp\n",
        "import kfp.components as comp"
      ],
      "execution_count": 2,
      "outputs": []
    },
    {
      "cell_type": "code",
      "metadata": {
        "id": "CaDwAEtT28wX",
        "outputId": "b766fa4a-a7bd-4f2d-bc2c-b0827c3744d2",
        "colab": {
          "base_uri": "https://localhost:8080/"
        }
      },
      "source": [
        "# Mount your Google drive folder on Colab\n",
        "from google.colab import drive\n",
        "drive.mount('/content/gdrive', force_remount=True)"
      ],
      "execution_count": 6,
      "outputs": [
        {
          "output_type": "stream",
          "text": [
            "Mounted at /content/gdrive\n"
          ],
          "name": "stdout"
        }
      ]
    },
    {
      "cell_type": "code",
      "metadata": {
        "id": "yPV42rC13grv"
      },
      "source": [
        "# where the outputs are stored\n",
        "out_dir = \"/content/gdrive/My Drive/\""
      ],
      "execution_count": 7,
      "outputs": []
    },
    {
      "cell_type": "code",
      "metadata": {
        "id": "_NZegrhW4F1x"
      },
      "source": [
        "def train(data_path, model_file):\n",
        "  import numpy as np\n",
        "  import pandas as pd\n",
        "  from sklearn.model_selection import train_test_split\n",
        "  import tensorflow as tf\n",
        "\n",
        "  data = \"https://raw.githubusercontent.com/Fitzpatrique/stage-f-09-campaign-finance/master/data/new_project_data2.csv\"\n",
        "  df = pd.read_csv(data)\n",
        "\n",
        "  X = df[['can_off_dis', 'can_zip', 'ind_con', 'net_ope_exp', 'tot_con',\n",
        "       'tot_dis', 'net_con', 'ope_exp', 'tot_rec', 'can_off_id', 'can_nam_id',\n",
        "       'can_off_sta_id', 'can_par_aff_id', 'can_inc_cha_ope_sea_id',\n",
        "       'can_cit_id', 'can_sta_id', 'cov_dur']]\n",
        "  y = df[['winner_id']]\n",
        "\n",
        "  #Perform train test split on the data\n",
        "  X_train, X_test, y_train, y_test = train_test_split(X, y, test_size=0.2, random_state=101)\n",
        "\n",
        "  #Define the model \n",
        "  model  = tf.keras.Sequential([\n",
        "                tf.keras.layers.Flatten(input_shape=(1,17)),\n",
        "                tf.keras.layers.Dense(8, activation = 'relu'),\n",
        "                tf.keras.layers.Dense(1, activation = 'sigmoid')\n",
        "  ])\n",
        "\n",
        "  model.compile(optimizer = 'adam', loss='binary_crossentropy', metrics =['accuracy'])\n",
        "\n",
        "\n",
        "  num_epochs = 170\n",
        "\n",
        "  history = model.fit(X_train, y_train, epochs = num_epochs,\n",
        "                    validation_data = (X_test,y_test))\n",
        "  \n",
        "  #Save the model\n",
        "  model.save('/content/gdrive/My Drive/saved_model')"
      ],
      "execution_count": 9,
      "outputs": []
    },
    {
      "cell_type": "code",
      "metadata": {
        "id": "FTqBO3HJ7nkJ",
        "outputId": "b2fc3d17-cc42-4869-cffe-0310376dc919",
        "colab": {
          "base_uri": "https://localhost:8080/"
        }
      },
      "source": [
        "classifier = train(out_dir, \"model\")"
      ],
      "execution_count": 10,
      "outputs": [
        {
          "output_type": "stream",
          "text": [
            "Epoch 1/170\n",
            "WARNING:tensorflow:Model was constructed with shape (None, 1, 17) for input Tensor(\"flatten_input:0\", shape=(None, 1, 17), dtype=float32), but it was called on an input with incompatible shape (None, 17).\n",
            "WARNING:tensorflow:Model was constructed with shape (None, 1, 17) for input Tensor(\"flatten_input:0\", shape=(None, 1, 17), dtype=float32), but it was called on an input with incompatible shape (None, 17).\n",
            " 1/39 [..............................] - ETA: 0s - loss: 9183894.0000 - accuracy: 0.3438WARNING:tensorflow:Model was constructed with shape (None, 1, 17) for input Tensor(\"flatten_input:0\", shape=(None, 1, 17), dtype=float32), but it was called on an input with incompatible shape (None, 17).\n",
            "39/39 [==============================] - 0s 6ms/step - loss: 6124119.0000 - accuracy: 0.2960 - val_loss: 3829783.7500 - val_accuracy: 0.3312\n",
            "Epoch 2/170\n",
            "39/39 [==============================] - 0s 2ms/step - loss: 3037869.5000 - accuracy: 0.2887 - val_loss: 1929002.3750 - val_accuracy: 0.3441\n",
            "Epoch 3/170\n",
            "39/39 [==============================] - 0s 1ms/step - loss: 1370864.0000 - accuracy: 0.2927 - val_loss: 621432.6875 - val_accuracy: 0.3312\n",
            "Epoch 4/170\n",
            "39/39 [==============================] - 0s 2ms/step - loss: 382038.2500 - accuracy: 0.4161 - val_loss: 227492.5312 - val_accuracy: 0.3087\n",
            "Epoch 5/170\n",
            "39/39 [==============================] - 0s 1ms/step - loss: 238943.0469 - accuracy: 0.4258 - val_loss: 155499.4688 - val_accuracy: 0.6785\n",
            "Epoch 6/170\n",
            "39/39 [==============================] - 0s 2ms/step - loss: 144506.0938 - accuracy: 0.4645 - val_loss: 69133.5000 - val_accuracy: 0.3891\n",
            "Epoch 7/170\n",
            "39/39 [==============================] - 0s 2ms/step - loss: 86508.1172 - accuracy: 0.6758 - val_loss: 54914.9062 - val_accuracy: 0.7460\n",
            "Epoch 8/170\n",
            "39/39 [==============================] - 0s 2ms/step - loss: 71628.2109 - accuracy: 0.6887 - val_loss: 57648.5859 - val_accuracy: 0.7395\n",
            "Epoch 9/170\n",
            "39/39 [==============================] - 0s 1ms/step - loss: 67119.3984 - accuracy: 0.7121 - val_loss: 51588.3125 - val_accuracy: 0.7267\n",
            "Epoch 10/170\n",
            "39/39 [==============================] - 0s 2ms/step - loss: 73062.7969 - accuracy: 0.7065 - val_loss: 55536.0508 - val_accuracy: 0.7717\n",
            "Epoch 11/170\n",
            "39/39 [==============================] - 0s 2ms/step - loss: 89398.9531 - accuracy: 0.6815 - val_loss: 41295.9180 - val_accuracy: 0.7878\n",
            "Epoch 12/170\n",
            "39/39 [==============================] - 0s 2ms/step - loss: 57018.4961 - accuracy: 0.7540 - val_loss: 47574.8047 - val_accuracy: 0.7363\n",
            "Epoch 13/170\n",
            "39/39 [==============================] - 0s 1ms/step - loss: 46246.7578 - accuracy: 0.7395 - val_loss: 23316.1855 - val_accuracy: 0.8006\n",
            "Epoch 14/170\n",
            "39/39 [==============================] - 0s 1ms/step - loss: 45628.8125 - accuracy: 0.7403 - val_loss: 52225.0469 - val_accuracy: 0.7428\n",
            "Epoch 15/170\n",
            "39/39 [==============================] - 0s 1ms/step - loss: 45374.5078 - accuracy: 0.7637 - val_loss: 17585.5977 - val_accuracy: 0.8199\n",
            "Epoch 16/170\n",
            "39/39 [==============================] - 0s 1ms/step - loss: 33240.8906 - accuracy: 0.8016 - val_loss: 17047.4297 - val_accuracy: 0.6399\n",
            "Epoch 17/170\n",
            "39/39 [==============================] - 0s 2ms/step - loss: 43361.0312 - accuracy: 0.7710 - val_loss: 26308.0586 - val_accuracy: 0.7588\n",
            "Epoch 18/170\n",
            "39/39 [==============================] - 0s 2ms/step - loss: 31139.3164 - accuracy: 0.7839 - val_loss: 18100.5410 - val_accuracy: 0.7395\n",
            "Epoch 19/170\n",
            "39/39 [==============================] - 0s 1ms/step - loss: 38123.0820 - accuracy: 0.7589 - val_loss: 12093.8301 - val_accuracy: 0.8714\n",
            "Epoch 20/170\n",
            "39/39 [==============================] - 0s 1ms/step - loss: 31667.7734 - accuracy: 0.8129 - val_loss: 25872.8652 - val_accuracy: 0.7910\n",
            "Epoch 21/170\n",
            "39/39 [==============================] - 0s 1ms/step - loss: 47662.8047 - accuracy: 0.8008 - val_loss: 16130.3555 - val_accuracy: 0.7299\n",
            "Epoch 22/170\n",
            "39/39 [==============================] - 0s 2ms/step - loss: 31253.7773 - accuracy: 0.7863 - val_loss: 24599.8047 - val_accuracy: 0.8971\n",
            "Epoch 23/170\n",
            "39/39 [==============================] - 0s 2ms/step - loss: 46563.0273 - accuracy: 0.7653 - val_loss: 26564.2441 - val_accuracy: 0.7621\n",
            "Epoch 24/170\n",
            "39/39 [==============================] - 0s 1ms/step - loss: 63792.8516 - accuracy: 0.6960 - val_loss: 40515.9961 - val_accuracy: 0.7363\n",
            "Epoch 25/170\n",
            "39/39 [==============================] - 0s 2ms/step - loss: 30255.9219 - accuracy: 0.7798 - val_loss: 21202.3223 - val_accuracy: 0.7846\n",
            "Epoch 26/170\n",
            "39/39 [==============================] - 0s 2ms/step - loss: 22755.2734 - accuracy: 0.8194 - val_loss: 6371.3901 - val_accuracy: 0.8971\n",
            "Epoch 27/170\n",
            "39/39 [==============================] - 0s 1ms/step - loss: 29402.8926 - accuracy: 0.8290 - val_loss: 61731.8633 - val_accuracy: 0.8714\n",
            "Epoch 28/170\n",
            "39/39 [==============================] - 0s 1ms/step - loss: 51680.5469 - accuracy: 0.7758 - val_loss: 44761.0781 - val_accuracy: 0.3408\n",
            "Epoch 29/170\n",
            "39/39 [==============================] - 0s 1ms/step - loss: 49339.7891 - accuracy: 0.7500 - val_loss: 8505.4160 - val_accuracy: 0.8971\n",
            "Epoch 30/170\n",
            "39/39 [==============================] - 0s 1ms/step - loss: 24435.5391 - accuracy: 0.8242 - val_loss: 11394.8516 - val_accuracy: 0.9003\n",
            "Epoch 31/170\n",
            "39/39 [==============================] - 0s 1ms/step - loss: 19217.9902 - accuracy: 0.8847 - val_loss: 6611.3262 - val_accuracy: 0.8939\n",
            "Epoch 32/170\n",
            "39/39 [==============================] - 0s 2ms/step - loss: 19253.8496 - accuracy: 0.8879 - val_loss: 6382.9517 - val_accuracy: 0.9068\n",
            "Epoch 33/170\n",
            "39/39 [==============================] - 0s 2ms/step - loss: 24412.4531 - accuracy: 0.8960 - val_loss: 4590.7500 - val_accuracy: 0.9164\n",
            "Epoch 34/170\n",
            "39/39 [==============================] - 0s 2ms/step - loss: 37008.0469 - accuracy: 0.8395 - val_loss: 16653.3926 - val_accuracy: 0.8006\n",
            "Epoch 35/170\n",
            "39/39 [==============================] - 0s 2ms/step - loss: 53975.8203 - accuracy: 0.7734 - val_loss: 87531.0312 - val_accuracy: 0.7974\n",
            "Epoch 36/170\n",
            "39/39 [==============================] - 0s 2ms/step - loss: 98253.2031 - accuracy: 0.8113 - val_loss: 9974.8398 - val_accuracy: 0.9035\n",
            "Epoch 37/170\n",
            "39/39 [==============================] - 0s 1ms/step - loss: 28871.0059 - accuracy: 0.8282 - val_loss: 8879.0146 - val_accuracy: 0.8682\n",
            "Epoch 38/170\n",
            "39/39 [==============================] - 0s 2ms/step - loss: 31278.6738 - accuracy: 0.8766 - val_loss: 4236.9595 - val_accuracy: 0.8875\n",
            "Epoch 39/170\n",
            "39/39 [==============================] - 0s 2ms/step - loss: 43328.5312 - accuracy: 0.8403 - val_loss: 43257.3359 - val_accuracy: 0.8875\n",
            "Epoch 40/170\n",
            "39/39 [==============================] - 0s 2ms/step - loss: 59248.9102 - accuracy: 0.7935 - val_loss: 17948.8730 - val_accuracy: 0.8006\n",
            "Epoch 41/170\n",
            "39/39 [==============================] - 0s 2ms/step - loss: 62395.7227 - accuracy: 0.8185 - val_loss: 6603.7251 - val_accuracy: 0.8971\n",
            "Epoch 42/170\n",
            "39/39 [==============================] - 0s 1ms/step - loss: 34094.0742 - accuracy: 0.8129 - val_loss: 12012.6846 - val_accuracy: 0.8810\n",
            "Epoch 43/170\n",
            "39/39 [==============================] - 0s 1ms/step - loss: 36615.2305 - accuracy: 0.7798 - val_loss: 11056.5215 - val_accuracy: 0.8199\n",
            "Epoch 44/170\n",
            "39/39 [==============================] - 0s 2ms/step - loss: 23728.4277 - accuracy: 0.8734 - val_loss: 5178.2437 - val_accuracy: 0.9196\n",
            "Epoch 45/170\n",
            "39/39 [==============================] - 0s 2ms/step - loss: 28963.4512 - accuracy: 0.7847 - val_loss: 7564.0425 - val_accuracy: 0.8746\n",
            "Epoch 46/170\n",
            "39/39 [==============================] - 0s 2ms/step - loss: 20738.7637 - accuracy: 0.8411 - val_loss: 4540.8716 - val_accuracy: 0.9100\n",
            "Epoch 47/170\n",
            "39/39 [==============================] - 0s 2ms/step - loss: 18006.9980 - accuracy: 0.8879 - val_loss: 4976.6504 - val_accuracy: 0.8907\n",
            "Epoch 48/170\n",
            "39/39 [==============================] - 0s 1ms/step - loss: 21390.8398 - accuracy: 0.8605 - val_loss: 14445.0723 - val_accuracy: 0.9068\n",
            "Epoch 49/170\n",
            "39/39 [==============================] - 0s 2ms/step - loss: 16822.5547 - accuracy: 0.8734 - val_loss: 4531.9077 - val_accuracy: 0.9132\n",
            "Epoch 50/170\n",
            "39/39 [==============================] - 0s 1ms/step - loss: 21046.1914 - accuracy: 0.8790 - val_loss: 4405.5830 - val_accuracy: 0.9196\n",
            "Epoch 51/170\n",
            "39/39 [==============================] - 0s 2ms/step - loss: 22757.2090 - accuracy: 0.8492 - val_loss: 6166.4424 - val_accuracy: 0.8521\n",
            "Epoch 52/170\n",
            "39/39 [==============================] - 0s 1ms/step - loss: 27526.3457 - accuracy: 0.8347 - val_loss: 8669.1201 - val_accuracy: 0.9035\n",
            "Epoch 53/170\n",
            "39/39 [==============================] - 0s 2ms/step - loss: 23251.4668 - accuracy: 0.8613 - val_loss: 3721.3391 - val_accuracy: 0.8810\n",
            "Epoch 54/170\n",
            "39/39 [==============================] - 0s 2ms/step - loss: 12668.4893 - accuracy: 0.8879 - val_loss: 7270.3809 - val_accuracy: 0.8746\n",
            "Epoch 55/170\n",
            "39/39 [==============================] - 0s 2ms/step - loss: 17205.8223 - accuracy: 0.8823 - val_loss: 4075.3257 - val_accuracy: 0.8006\n",
            "Epoch 56/170\n",
            "39/39 [==============================] - 0s 2ms/step - loss: 25544.9766 - accuracy: 0.8444 - val_loss: 8948.8389 - val_accuracy: 0.8264\n",
            "Epoch 57/170\n",
            "39/39 [==============================] - 0s 1ms/step - loss: 17841.5586 - accuracy: 0.8524 - val_loss: 3349.6204 - val_accuracy: 0.9164\n",
            "Epoch 58/170\n",
            "39/39 [==============================] - 0s 2ms/step - loss: 15902.8662 - accuracy: 0.8855 - val_loss: 3685.5232 - val_accuracy: 0.9068\n",
            "Epoch 59/170\n",
            "39/39 [==============================] - 0s 2ms/step - loss: 21133.0215 - accuracy: 0.8855 - val_loss: 12940.0645 - val_accuracy: 0.8907\n",
            "Epoch 60/170\n",
            "39/39 [==============================] - 0s 2ms/step - loss: 25548.9746 - accuracy: 0.8645 - val_loss: 54170.5352 - val_accuracy: 0.8006\n",
            "Epoch 61/170\n",
            "39/39 [==============================] - 0s 2ms/step - loss: 36130.8242 - accuracy: 0.8089 - val_loss: 13711.8604 - val_accuracy: 0.8296\n",
            "Epoch 62/170\n",
            "39/39 [==============================] - 0s 2ms/step - loss: 16068.7061 - accuracy: 0.8774 - val_loss: 8746.8438 - val_accuracy: 0.8746\n",
            "Epoch 63/170\n",
            "39/39 [==============================] - 0s 2ms/step - loss: 25830.3027 - accuracy: 0.8210 - val_loss: 4651.0674 - val_accuracy: 0.8842\n",
            "Epoch 64/170\n",
            "39/39 [==============================] - 0s 2ms/step - loss: 19987.2441 - accuracy: 0.8677 - val_loss: 3259.6924 - val_accuracy: 0.9325\n",
            "Epoch 65/170\n",
            "39/39 [==============================] - 0s 2ms/step - loss: 27814.1895 - accuracy: 0.8613 - val_loss: 4985.7690 - val_accuracy: 0.8939\n",
            "Epoch 66/170\n",
            "39/39 [==============================] - 0s 2ms/step - loss: 32567.4648 - accuracy: 0.8040 - val_loss: 11761.5996 - val_accuracy: 0.8103\n",
            "Epoch 67/170\n",
            "39/39 [==============================] - 0s 1ms/step - loss: 27614.6719 - accuracy: 0.8266 - val_loss: 6368.6016 - val_accuracy: 0.8907\n",
            "Epoch 68/170\n",
            "39/39 [==============================] - 0s 2ms/step - loss: 31689.1074 - accuracy: 0.8782 - val_loss: 25268.1152 - val_accuracy: 0.8585\n",
            "Epoch 69/170\n",
            "39/39 [==============================] - 0s 2ms/step - loss: 30793.4004 - accuracy: 0.7718 - val_loss: 24800.5234 - val_accuracy: 0.8585\n",
            "Epoch 70/170\n",
            "39/39 [==============================] - 0s 2ms/step - loss: 18612.1719 - accuracy: 0.8645 - val_loss: 3924.2256 - val_accuracy: 0.8842\n",
            "Epoch 71/170\n",
            "39/39 [==============================] - 0s 2ms/step - loss: 35181.3945 - accuracy: 0.7992 - val_loss: 13252.7100 - val_accuracy: 0.8521\n",
            "Epoch 72/170\n",
            "39/39 [==============================] - 0s 2ms/step - loss: 31035.0195 - accuracy: 0.7952 - val_loss: 3967.2131 - val_accuracy: 0.8778\n",
            "Epoch 73/170\n",
            "39/39 [==============================] - 0s 1ms/step - loss: 16149.7080 - accuracy: 0.8597 - val_loss: 4229.1855 - val_accuracy: 0.7010\n",
            "Epoch 74/170\n",
            "39/39 [==============================] - 0s 2ms/step - loss: 19236.1387 - accuracy: 0.8806 - val_loss: 17463.8281 - val_accuracy: 0.8650\n",
            "Epoch 75/170\n",
            "39/39 [==============================] - 0s 2ms/step - loss: 21797.3105 - accuracy: 0.8621 - val_loss: 3127.0847 - val_accuracy: 0.8875\n",
            "Epoch 76/170\n",
            "39/39 [==============================] - 0s 1ms/step - loss: 11797.4941 - accuracy: 0.8960 - val_loss: 3731.6792 - val_accuracy: 0.9100\n",
            "Epoch 77/170\n",
            "39/39 [==============================] - 0s 2ms/step - loss: 12044.6738 - accuracy: 0.9024 - val_loss: 3668.6162 - val_accuracy: 0.9132\n",
            "Epoch 78/170\n",
            "39/39 [==============================] - 0s 2ms/step - loss: 66787.4922 - accuracy: 0.7895 - val_loss: 34234.8086 - val_accuracy: 0.5756\n",
            "Epoch 79/170\n",
            "39/39 [==============================] - 0s 2ms/step - loss: 34660.2305 - accuracy: 0.7782 - val_loss: 7401.0562 - val_accuracy: 0.9035\n",
            "Epoch 80/170\n",
            "39/39 [==============================] - 0s 2ms/step - loss: 20374.1582 - accuracy: 0.8444 - val_loss: 2687.6028 - val_accuracy: 0.9035\n",
            "Epoch 81/170\n",
            "39/39 [==============================] - 0s 2ms/step - loss: 15409.0342 - accuracy: 0.8702 - val_loss: 9068.5586 - val_accuracy: 0.9035\n",
            "Epoch 82/170\n",
            "39/39 [==============================] - 0s 2ms/step - loss: 30550.2969 - accuracy: 0.8081 - val_loss: 5897.7466 - val_accuracy: 0.8521\n",
            "Epoch 83/170\n",
            "39/39 [==============================] - 0s 1ms/step - loss: 15998.9980 - accuracy: 0.8363 - val_loss: 8540.2842 - val_accuracy: 0.8424\n",
            "Epoch 84/170\n",
            "39/39 [==============================] - 0s 2ms/step - loss: 22094.0371 - accuracy: 0.8750 - val_loss: 9468.2051 - val_accuracy: 0.8553\n",
            "Epoch 85/170\n",
            "39/39 [==============================] - 0s 2ms/step - loss: 15467.4463 - accuracy: 0.8556 - val_loss: 3277.1670 - val_accuracy: 0.9325\n",
            "Epoch 86/170\n",
            "39/39 [==============================] - 0s 2ms/step - loss: 16130.3066 - accuracy: 0.8944 - val_loss: 8217.4307 - val_accuracy: 0.8746\n",
            "Epoch 87/170\n",
            "39/39 [==============================] - 0s 2ms/step - loss: 25359.5918 - accuracy: 0.8605 - val_loss: 3470.5325 - val_accuracy: 0.9196\n",
            "Epoch 88/170\n",
            "39/39 [==============================] - 0s 2ms/step - loss: 39075.0742 - accuracy: 0.8435 - val_loss: 10731.5889 - val_accuracy: 0.8585\n",
            "Epoch 89/170\n",
            "39/39 [==============================] - 0s 2ms/step - loss: 46193.2852 - accuracy: 0.8121 - val_loss: 19739.8340 - val_accuracy: 0.8714\n",
            "Epoch 90/170\n",
            "39/39 [==============================] - 0s 2ms/step - loss: 18561.6523 - accuracy: 0.8065 - val_loss: 6912.7896 - val_accuracy: 0.8392\n",
            "Epoch 91/170\n",
            "39/39 [==============================] - 0s 2ms/step - loss: 16683.3398 - accuracy: 0.8887 - val_loss: 14105.5615 - val_accuracy: 0.9132\n",
            "Epoch 92/170\n",
            "39/39 [==============================] - 0s 2ms/step - loss: 44106.8789 - accuracy: 0.7790 - val_loss: 5588.5244 - val_accuracy: 0.9100\n",
            "Epoch 93/170\n",
            "39/39 [==============================] - 0s 2ms/step - loss: 19147.0566 - accuracy: 0.8815 - val_loss: 3915.7039 - val_accuracy: 0.8939\n",
            "Epoch 94/170\n",
            "39/39 [==============================] - 0s 2ms/step - loss: 27174.7070 - accuracy: 0.8258 - val_loss: 3096.4053 - val_accuracy: 0.9228\n",
            "Epoch 95/170\n",
            "39/39 [==============================] - 0s 2ms/step - loss: 12284.5322 - accuracy: 0.9056 - val_loss: 6655.4355 - val_accuracy: 0.9035\n",
            "Epoch 96/170\n",
            "39/39 [==============================] - 0s 2ms/step - loss: 15287.7695 - accuracy: 0.8879 - val_loss: 4819.6426 - val_accuracy: 0.9003\n",
            "Epoch 97/170\n",
            "39/39 [==============================] - 0s 1ms/step - loss: 33901.4336 - accuracy: 0.7677 - val_loss: 6924.0718 - val_accuracy: 0.8939\n",
            "Epoch 98/170\n",
            "39/39 [==============================] - 0s 2ms/step - loss: 12532.3311 - accuracy: 0.8637 - val_loss: 4617.5693 - val_accuracy: 0.9068\n",
            "Epoch 99/170\n",
            "39/39 [==============================] - 0s 2ms/step - loss: 12550.9023 - accuracy: 0.8887 - val_loss: 9513.8057 - val_accuracy: 0.8521\n",
            "Epoch 100/170\n",
            "39/39 [==============================] - 0s 2ms/step - loss: 30572.1230 - accuracy: 0.8169 - val_loss: 8846.3076 - val_accuracy: 0.9132\n",
            "Epoch 101/170\n",
            "39/39 [==============================] - 0s 2ms/step - loss: 20655.4824 - accuracy: 0.8500 - val_loss: 4051.5471 - val_accuracy: 0.9100\n",
            "Epoch 102/170\n",
            "39/39 [==============================] - 0s 1ms/step - loss: 13358.5205 - accuracy: 0.8702 - val_loss: 5435.7451 - val_accuracy: 0.8617\n",
            "Epoch 103/170\n",
            "39/39 [==============================] - 0s 2ms/step - loss: 15518.4600 - accuracy: 0.8508 - val_loss: 5127.9355 - val_accuracy: 0.9068\n",
            "Epoch 104/170\n",
            "39/39 [==============================] - 0s 2ms/step - loss: 14305.5518 - accuracy: 0.8831 - val_loss: 3740.8359 - val_accuracy: 0.9100\n",
            "Epoch 105/170\n",
            "39/39 [==============================] - 0s 1ms/step - loss: 26638.8145 - accuracy: 0.8637 - val_loss: 10202.2930 - val_accuracy: 0.5627\n",
            "Epoch 106/170\n",
            "39/39 [==============================] - 0s 1ms/step - loss: 15468.0166 - accuracy: 0.8573 - val_loss: 10871.9893 - val_accuracy: 0.9132\n",
            "Epoch 107/170\n",
            "39/39 [==============================] - 0s 2ms/step - loss: 26805.7402 - accuracy: 0.8339 - val_loss: 4730.5225 - val_accuracy: 0.6334\n",
            "Epoch 108/170\n",
            "39/39 [==============================] - 0s 2ms/step - loss: 20341.4023 - accuracy: 0.8895 - val_loss: 4873.2446 - val_accuracy: 0.8907\n",
            "Epoch 109/170\n",
            "39/39 [==============================] - 0s 2ms/step - loss: 26705.7324 - accuracy: 0.8169 - val_loss: 6958.7539 - val_accuracy: 0.9003\n",
            "Epoch 110/170\n",
            "39/39 [==============================] - 0s 2ms/step - loss: 26966.7070 - accuracy: 0.7903 - val_loss: 17778.9238 - val_accuracy: 0.8971\n",
            "Epoch 111/170\n",
            "39/39 [==============================] - 0s 2ms/step - loss: 24377.2090 - accuracy: 0.8540 - val_loss: 18780.8203 - val_accuracy: 0.8264\n",
            "Epoch 112/170\n",
            "39/39 [==============================] - 0s 2ms/step - loss: 26907.6426 - accuracy: 0.8145 - val_loss: 4530.5972 - val_accuracy: 0.9196\n",
            "Epoch 113/170\n",
            "39/39 [==============================] - 0s 2ms/step - loss: 12584.3359 - accuracy: 0.8944 - val_loss: 14416.7861 - val_accuracy: 0.8360\n",
            "Epoch 114/170\n",
            "39/39 [==============================] - 0s 1ms/step - loss: 29473.5410 - accuracy: 0.8347 - val_loss: 18974.6387 - val_accuracy: 0.8489\n",
            "Epoch 115/170\n",
            "39/39 [==============================] - 0s 2ms/step - loss: 17053.8281 - accuracy: 0.8677 - val_loss: 3691.6704 - val_accuracy: 0.9293\n",
            "Epoch 116/170\n",
            "39/39 [==============================] - 0s 2ms/step - loss: 17549.2090 - accuracy: 0.8589 - val_loss: 3759.8010 - val_accuracy: 0.8810\n",
            "Epoch 117/170\n",
            "39/39 [==============================] - 0s 2ms/step - loss: 11363.8076 - accuracy: 0.8968 - val_loss: 3686.9839 - val_accuracy: 0.9132\n",
            "Epoch 118/170\n",
            "39/39 [==============================] - 0s 2ms/step - loss: 73820.6094 - accuracy: 0.7540 - val_loss: 11776.5439 - val_accuracy: 0.8103\n",
            "Epoch 119/170\n",
            "39/39 [==============================] - 0s 2ms/step - loss: 34599.4336 - accuracy: 0.7556 - val_loss: 3711.1631 - val_accuracy: 0.9068\n",
            "Epoch 120/170\n",
            "39/39 [==============================] - 0s 2ms/step - loss: 28262.5605 - accuracy: 0.8306 - val_loss: 7504.4263 - val_accuracy: 0.9100\n",
            "Epoch 121/170\n",
            "39/39 [==============================] - 0s 1ms/step - loss: 12894.8193 - accuracy: 0.9161 - val_loss: 7265.8818 - val_accuracy: 0.9132\n",
            "Epoch 122/170\n",
            "39/39 [==============================] - 0s 2ms/step - loss: 40082.3789 - accuracy: 0.7935 - val_loss: 31049.6680 - val_accuracy: 0.3698\n",
            "Epoch 123/170\n",
            "39/39 [==============================] - 0s 2ms/step - loss: 38619.7305 - accuracy: 0.8129 - val_loss: 33901.7305 - val_accuracy: 0.8328\n",
            "Epoch 124/170\n",
            "39/39 [==============================] - 0s 2ms/step - loss: 23434.4961 - accuracy: 0.8581 - val_loss: 14101.9756 - val_accuracy: 0.8071\n",
            "Epoch 125/170\n",
            "39/39 [==============================] - 0s 1ms/step - loss: 13790.2402 - accuracy: 0.8798 - val_loss: 6162.1191 - val_accuracy: 0.9068\n",
            "Epoch 126/170\n",
            "39/39 [==============================] - 0s 2ms/step - loss: 11142.5508 - accuracy: 0.9048 - val_loss: 9717.4521 - val_accuracy: 0.8360\n",
            "Epoch 127/170\n",
            "39/39 [==============================] - 0s 1ms/step - loss: 22186.4453 - accuracy: 0.8524 - val_loss: 14485.9971 - val_accuracy: 0.8135\n",
            "Epoch 128/170\n",
            "39/39 [==============================] - 0s 2ms/step - loss: 29118.8281 - accuracy: 0.7597 - val_loss: 5796.1426 - val_accuracy: 0.8875\n",
            "Epoch 129/170\n",
            "39/39 [==============================] - 0s 2ms/step - loss: 24163.3926 - accuracy: 0.8823 - val_loss: 3709.3787 - val_accuracy: 0.8135\n",
            "Epoch 130/170\n",
            "39/39 [==============================] - 0s 2ms/step - loss: 10230.6143 - accuracy: 0.9032 - val_loss: 8165.2422 - val_accuracy: 0.9100\n",
            "Epoch 131/170\n",
            "39/39 [==============================] - 0s 2ms/step - loss: 15715.3662 - accuracy: 0.8597 - val_loss: 13477.0752 - val_accuracy: 0.8907\n",
            "Epoch 132/170\n",
            "39/39 [==============================] - 0s 1ms/step - loss: 21411.8281 - accuracy: 0.8565 - val_loss: 3737.8938 - val_accuracy: 0.9100\n",
            "Epoch 133/170\n",
            "39/39 [==============================] - 0s 2ms/step - loss: 13751.6758 - accuracy: 0.8815 - val_loss: 3524.9272 - val_accuracy: 0.9003\n",
            "Epoch 134/170\n",
            "39/39 [==============================] - 0s 2ms/step - loss: 11376.4512 - accuracy: 0.8645 - val_loss: 6195.3291 - val_accuracy: 0.8810\n",
            "Epoch 135/170\n",
            "39/39 [==============================] - 0s 2ms/step - loss: 14266.5693 - accuracy: 0.8694 - val_loss: 3260.3049 - val_accuracy: 0.9260\n",
            "Epoch 136/170\n",
            "39/39 [==============================] - 0s 2ms/step - loss: 12354.1855 - accuracy: 0.9016 - val_loss: 3596.2612 - val_accuracy: 0.9293\n",
            "Epoch 137/170\n",
            "39/39 [==============================] - 0s 1ms/step - loss: 12641.6572 - accuracy: 0.8750 - val_loss: 9557.7676 - val_accuracy: 0.8971\n",
            "Epoch 138/170\n",
            "39/39 [==============================] - 0s 2ms/step - loss: 13417.6436 - accuracy: 0.8992 - val_loss: 8463.7070 - val_accuracy: 0.8746\n",
            "Epoch 139/170\n",
            "39/39 [==============================] - 0s 1ms/step - loss: 8407.4229 - accuracy: 0.9081 - val_loss: 2823.5161 - val_accuracy: 0.9164\n",
            "Epoch 140/170\n",
            "39/39 [==============================] - 0s 2ms/step - loss: 16713.9629 - accuracy: 0.8823 - val_loss: 13288.5107 - val_accuracy: 0.4373\n",
            "Epoch 141/170\n",
            "39/39 [==============================] - 0s 2ms/step - loss: 36737.8828 - accuracy: 0.7734 - val_loss: 18618.5508 - val_accuracy: 0.8328\n",
            "Epoch 142/170\n",
            "39/39 [==============================] - 0s 2ms/step - loss: 17562.1973 - accuracy: 0.8831 - val_loss: 8851.3525 - val_accuracy: 0.8264\n",
            "Epoch 143/170\n",
            "39/39 [==============================] - 0s 2ms/step - loss: 8977.9414 - accuracy: 0.8500 - val_loss: 3753.1531 - val_accuracy: 0.9164\n",
            "Epoch 144/170\n",
            "39/39 [==============================] - 0s 1ms/step - loss: 13474.7012 - accuracy: 0.8742 - val_loss: 12125.9551 - val_accuracy: 0.8135\n",
            "Epoch 145/170\n",
            "39/39 [==============================] - 0s 2ms/step - loss: 13512.3008 - accuracy: 0.8379 - val_loss: 3130.6951 - val_accuracy: 0.9164\n",
            "Epoch 146/170\n",
            "39/39 [==============================] - 0s 2ms/step - loss: 30361.0352 - accuracy: 0.8379 - val_loss: 43450.6602 - val_accuracy: 0.8585\n",
            "Epoch 147/170\n",
            "39/39 [==============================] - 0s 2ms/step - loss: 40502.0547 - accuracy: 0.7790 - val_loss: 10902.3896 - val_accuracy: 0.9132\n",
            "Epoch 148/170\n",
            "39/39 [==============================] - 0s 2ms/step - loss: 22250.3398 - accuracy: 0.8548 - val_loss: 7586.4077 - val_accuracy: 0.9196\n",
            "Epoch 149/170\n",
            "39/39 [==============================] - 0s 1ms/step - loss: 36722.6445 - accuracy: 0.8161 - val_loss: 6387.4351 - val_accuracy: 0.8842\n",
            "Epoch 150/170\n",
            "39/39 [==============================] - 0s 2ms/step - loss: 13888.2822 - accuracy: 0.8895 - val_loss: 3899.5237 - val_accuracy: 0.9035\n",
            "Epoch 151/170\n",
            "39/39 [==============================] - 0s 2ms/step - loss: 9068.5928 - accuracy: 0.8992 - val_loss: 3604.3540 - val_accuracy: 0.9164\n",
            "Epoch 152/170\n",
            "39/39 [==============================] - 0s 2ms/step - loss: 12682.2695 - accuracy: 0.8960 - val_loss: 9321.3838 - val_accuracy: 0.8264\n",
            "Epoch 153/170\n",
            "39/39 [==============================] - 0s 2ms/step - loss: 20187.6465 - accuracy: 0.8395 - val_loss: 15285.2656 - val_accuracy: 0.8103\n",
            "Epoch 154/170\n",
            "39/39 [==============================] - 0s 2ms/step - loss: 21419.8867 - accuracy: 0.7823 - val_loss: 7192.1392 - val_accuracy: 0.9003\n",
            "Epoch 155/170\n",
            "39/39 [==============================] - 0s 2ms/step - loss: 19521.5391 - accuracy: 0.8161 - val_loss: 5474.2798 - val_accuracy: 0.9228\n",
            "Epoch 156/170\n",
            "39/39 [==============================] - 0s 2ms/step - loss: 11964.5938 - accuracy: 0.8903 - val_loss: 7733.8081 - val_accuracy: 0.9100\n",
            "Epoch 157/170\n",
            "39/39 [==============================] - 0s 2ms/step - loss: 23701.2910 - accuracy: 0.8500 - val_loss: 7654.9727 - val_accuracy: 0.8135\n",
            "Epoch 158/170\n",
            "39/39 [==============================] - 0s 1ms/step - loss: 29975.2520 - accuracy: 0.8831 - val_loss: 54504.6953 - val_accuracy: 0.8746\n",
            "Epoch 159/170\n",
            "39/39 [==============================] - 0s 2ms/step - loss: 51294.1758 - accuracy: 0.8089 - val_loss: 13805.3877 - val_accuracy: 0.4791\n",
            "Epoch 160/170\n",
            "39/39 [==============================] - 0s 2ms/step - loss: 12764.4189 - accuracy: 0.8702 - val_loss: 4531.4297 - val_accuracy: 0.8971\n",
            "Epoch 161/170\n",
            "39/39 [==============================] - 0s 2ms/step - loss: 9012.8584 - accuracy: 0.9000 - val_loss: 3317.0647 - val_accuracy: 0.8360\n",
            "Epoch 162/170\n",
            "39/39 [==============================] - 0s 2ms/step - loss: 9778.2314 - accuracy: 0.9065 - val_loss: 5247.6011 - val_accuracy: 0.9164\n",
            "Epoch 163/170\n",
            "39/39 [==============================] - 0s 2ms/step - loss: 24139.1191 - accuracy: 0.8242 - val_loss: 18811.2324 - val_accuracy: 0.7717\n",
            "Epoch 164/170\n",
            "39/39 [==============================] - 0s 2ms/step - loss: 9622.3818 - accuracy: 0.8677 - val_loss: 7221.2300 - val_accuracy: 0.9196\n",
            "Epoch 165/170\n",
            "39/39 [==============================] - 0s 2ms/step - loss: 10046.7188 - accuracy: 0.8798 - val_loss: 4360.8389 - val_accuracy: 0.7653\n",
            "Epoch 166/170\n",
            "39/39 [==============================] - 0s 2ms/step - loss: 7273.4019 - accuracy: 0.8968 - val_loss: 3687.9602 - val_accuracy: 0.8746\n",
            "Epoch 167/170\n",
            "39/39 [==============================] - 0s 2ms/step - loss: 10716.3867 - accuracy: 0.8855 - val_loss: 6182.8198 - val_accuracy: 0.9035\n",
            "Epoch 168/170\n",
            "39/39 [==============================] - 0s 2ms/step - loss: 15275.0000 - accuracy: 0.9032 - val_loss: 12353.4746 - val_accuracy: 0.8296\n",
            "Epoch 169/170\n",
            "39/39 [==============================] - 0s 2ms/step - loss: 24230.2461 - accuracy: 0.7944 - val_loss: 7925.3174 - val_accuracy: 0.6013\n",
            "Epoch 170/170\n",
            "39/39 [==============================] - 0s 2ms/step - loss: 15171.0439 - accuracy: 0.8653 - val_loss: 12480.9248 - val_accuracy: 0.8971\n",
            "WARNING:tensorflow:From /usr/local/lib/python3.6/dist-packages/tensorflow/python/training/tracking/tracking.py:111: Model.state_updates (from tensorflow.python.keras.engine.training) is deprecated and will be removed in a future version.\n",
            "Instructions for updating:\n",
            "This property should not be used in TensorFlow 2.0, as updates are applied automatically.\n",
            "WARNING:tensorflow:From /usr/local/lib/python3.6/dist-packages/tensorflow/python/training/tracking/tracking.py:111: Layer.updates (from tensorflow.python.keras.engine.base_layer) is deprecated and will be removed in a future version.\n",
            "Instructions for updating:\n",
            "This property should not be used in TensorFlow 2.0, as updates are applied automatically.\n",
            "INFO:tensorflow:Assets written to: /content/gdrive/My Drive/saved_model/assets\n"
          ],
          "name": "stdout"
        }
      ]
    },
    {
      "cell_type": "code",
      "metadata": {
        "id": "ZkOit1_g8-s-"
      },
      "source": [
        "def predict(data_path, model_file):\n",
        "  import tensorflow as tf\n",
        "  import numpy as np\n",
        "  import pandas as pd\n",
        "  from sklearn.model_selection import train_test_split\n",
        "  \n",
        "\n",
        "  data = \"https://raw.githubusercontent.com/Fitzpatrique/stage-f-09-campaign-finance/master/data/new_project_data2.csv\"\n",
        "  df = pd.read_csv(data)\n",
        "\n",
        "  X = df[['can_off_dis', 'can_zip', 'ind_con', 'net_ope_exp', 'tot_con',\n",
        "       'tot_dis', 'net_con', 'ope_exp', 'tot_rec', 'can_off_id', 'can_nam_id',\n",
        "       'can_off_sta_id', 'can_par_aff_id', 'can_inc_cha_ope_sea_id',\n",
        "       'can_cit_id', 'can_sta_id', 'cov_dur']]\n",
        "  y = df[['winner_id']]\n",
        "\n",
        "  #Perform train test split on the data\n",
        "  X_train, X_test, y_train, y_test = train_test_split(X, y, test_size=0.2, random_state=921)\n",
        "\n",
        "\n",
        "  #Load saved model\n",
        "  classifier = tf.keras.models.load_model('/content/gdrive/My Drive/saved_model')\n",
        "  test_loss, test_acc = classifier.evaluate(X_test,  y_test, verbose=0)\n",
        "  print('Test accuracy:', test_acc)\n",
        "  from tensorflow.python.lib.io import file_io\n",
        "  import json\n",
        "    \n",
        "    # Exports a sample tensorboard:\n",
        "  metadata = {\n",
        "      'outputs' : [{\n",
        "        'type': 'tensorboard',\n",
        "        'source': 'gs://ml-pipeline-dataset/tensorboard-train',\n",
        "      }]\n",
        "    }\n",
        "\n",
        "    # Exports two sample metrics:\n",
        "  metrics = {\n",
        "      'metrics': [{\n",
        "          'name': 'Test_Accuracy',\n",
        "          'numberValue':  float(test_acc),\n",
        "        }]}\n",
        "\n",
        "  from collections import namedtuple\n",
        "  predict_output = namedtuple('Test_Accuracy', ['Test_Accuracy', 'mlpipeline_ui_metadata', 'mlpipeline_metrics'])\n",
        "  return predict_output(test_acc, json.dumps(metadata), json.dumps(metrics))"
      ],
      "execution_count": 23,
      "outputs": []
    },
    {
      "cell_type": "code",
      "metadata": {
        "id": "0oqRnMSK-f0F",
        "outputId": "116fb902-c469-44f5-c723-2e3c444128bd",
        "colab": {
          "base_uri": "https://localhost:8080/"
        }
      },
      "source": [
        "predict(out_dir, \"model\")"
      ],
      "execution_count": 24,
      "outputs": [
        {
          "output_type": "stream",
          "text": [
            "WARNING:tensorflow:Model was constructed with shape (None, 1, 17) for input Tensor(\"flatten_input_5:0\", shape=(None, 1, 17), dtype=float32), but it was called on an input with incompatible shape (None, 17).\n",
            "Test accuracy: 0.9035369753837585\n"
          ],
          "name": "stdout"
        },
        {
          "output_type": "execute_result",
          "data": {
            "text/plain": [
              "Test_Accuracy(Test_Accuracy=0.9035369753837585, mlpipeline_ui_metadata='{\"outputs\": [{\"type\": \"tensorboard\", \"source\": \"gs://ml-pipeline-dataset/tensorboard-train\"}]}', mlpipeline_metrics='{\"metrics\": [{\"name\": \"Test_Accuracy\", \"numberValue\": 0.9035369753837585}]}')"
            ]
          },
          "metadata": {
            "tags": []
          },
          "execution_count": 24
        }
      ]
    },
    {
      "cell_type": "code",
      "metadata": {
        "id": "uCtZwuin-jsV"
      },
      "source": [
        "# Create train and predict lightweight components.\n",
        "train_op = comp.func_to_container_op(train , base_image = \"tensorflow/tensorflow:latest-gpu-py3\")\n",
        "predict_op = comp.func_to_container_op(predict , base_image = \"tensorflow/tensorflow:latest-gpu-py3\")"
      ],
      "execution_count": 25,
      "outputs": []
    },
    {
      "cell_type": "markdown",
      "metadata": {
        "id": "qipkX0As_cul"
      },
      "source": [
        "#Build a Kubeflow Pipeline"
      ]
    },
    {
      "cell_type": "code",
      "metadata": {
        "id": "lOeXDGFu_W05"
      },
      "source": [
        "import kfp.dsl as dsl\n",
        "@dsl.pipeline(\n",
        "   name='Campaign finance pipeline',\n",
        "   description='A classification pipeline that performs predictions on electoral results.'\n",
        ")\n",
        "def camp_pipeline(\n",
        "  data_path: str,\n",
        "  model_file: str\n",
        "):\n",
        "    #Passing pipeline parameter and a constant value as operation arguments\n",
        "    train_task = train_op(data_path, model_file) #Returns a dsl.ContainerOp class instance. \n",
        "    \n",
        "    #Passing a task output reference as operation arguments\n",
        "    #For an operation with a single return value, the output reference can be accessed using `task.output` or `task.outputs['output_name']` syntax\n",
        "    predict_task = predict_op(data_path, model_file)\n",
        "    "
      ],
      "execution_count": 26,
      "outputs": []
    },
    {
      "cell_type": "code",
      "metadata": {
        "id": "rSC_74fdDot2"
      },
      "source": [
        "pipeline_func = camp_pipeline"
      ],
      "execution_count": 27,
      "outputs": []
    },
    {
      "cell_type": "code",
      "metadata": {
        "id": "yxFifQVqEa5V"
      },
      "source": [
        "DATA_PATH = '/mnt'\n",
        "MODEL_PATH='churn_classifier.h5'"
      ],
      "execution_count": 29,
      "outputs": []
    },
    {
      "cell_type": "code",
      "metadata": {
        "id": "GYypERS4Dxq3"
      },
      "source": [
        "experiment_name = 'campaign_finance_kubeflow'\n",
        "run_name = pipeline_func.__name__ + ' run'\n",
        "\n",
        "arguments = {\"data_path\":DATA_PATH,\n",
        "             \"model_file\":MODEL_PATH}\n",
        "\n",
        "# Compile pipeline to generate compressed YAML definition of the pipeline.\n",
        "kfp.compiler.Compiler().compile(pipeline_func,  \n",
        "  '{}.zip'.format(experiment_name))"
      ],
      "execution_count": 30,
      "outputs": []
    },
    {
      "cell_type": "code",
      "metadata": {
        "id": "9ylhmQKSEKuq"
      },
      "source": [
        ""
      ],
      "execution_count": null,
      "outputs": []
    }
  ]
}